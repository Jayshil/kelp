{
 "cells": [
  {
   "cell_type": "code",
   "execution_count": null,
   "metadata": {},
   "outputs": [],
   "source": [
    "import matplotlib.pyplot as plt\n",
    "import numpy as np\n",
    "\n",
    "from kelp import Model, Planet, Filter"
   ]
  },
  {
   "cell_type": "code",
   "execution_count": null,
   "metadata": {},
   "outputs": [],
   "source": [
    "np.random.seed(42) \n",
    "\n",
    "planet = Planet.from_name('HD 189733')\n",
    "filt = Filter.from_name(\"IRAC 1\")\n",
    "\n",
    "xi = np.linspace(-np.pi, np.pi, 40)\n",
    "\n",
    "hotspot_offset = np.radians(40)\n",
    "alpha = 0.6\n",
    "omega = 4.5\n",
    "A_B = 0\n",
    "lmax = 1\n",
    "C = [[0], \n",
    "     [0, 0.6, 0]]\n",
    "obs_err = 1e-8\n",
    "model = Model(hotspot_offset, alpha, omega, \n",
    "              A_B, C, lmax, planet=planet, filt=filt)\n",
    "obs = model.phase_curve(xi).flux + obs_err * np.random.randn(xi.shape[0])"
   ]
  },
  {
   "cell_type": "code",
   "execution_count": null,
   "metadata": {},
   "outputs": [],
   "source": [
    "plt.plot(xi, obs, '.')"
   ]
  },
  {
   "cell_type": "code",
   "execution_count": null,
   "metadata": {},
   "outputs": [],
   "source": [
    "def pc_model(p, x):\n",
    "    offset, c_11 = p\n",
    "    C = [[0], \n",
    "         [0, c_11, 0]]\n",
    "    model = Model(hotspot_offset=offset, alpha=alpha, \n",
    "                  omega_drag=omega, A_B=A_B, C_ml=C, lmax=1, \n",
    "                  planet=planet, filt=filt)\n",
    "    return model.phase_curve(x).flux\n",
    "\n",
    "def lnprior(p): \n",
    "    offset, c_11 = p\n",
    "    \n",
    "    if (offset > np.pi or offset < -np.pi or \n",
    "        c_11 > 1 or c_11 < 0): \n",
    "        return -np.inf\n",
    "    \n",
    "    return 0\n",
    "\n",
    "def lnlike(p, x, y, yerr):\n",
    "    return -0.5 * np.sum((pc_model(p, x) - y)**2 / yerr**2)\n",
    "\n",
    "def lnprob(p, x, y, yerr):\n",
    "    lp = lnprior(p)\n",
    "    \n",
    "    if np.isfinite(lp): \n",
    "        return lp + lnlike(p, x, y, yerr)\n",
    "    return -np.inf"
   ]
  },
  {
   "cell_type": "code",
   "execution_count": null,
   "metadata": {},
   "outputs": [],
   "source": [
    "from scipy.optimize import minimize\n",
    "\n",
    "initp = np.array([0.7, 0.6])\n",
    "\n",
    "bounds = [[0, 2], [0.1, 1]]\n",
    "\n",
    "soln = minimize(lambda *args: -lnprob(*args), \n",
    "                initp, args=(xi, obs, obs_err), \n",
    "                method='powell')"
   ]
  },
  {
   "cell_type": "code",
   "execution_count": null,
   "metadata": {},
   "outputs": [],
   "source": [
    "soln"
   ]
  },
  {
   "cell_type": "code",
   "execution_count": null,
   "metadata": {},
   "outputs": [],
   "source": [
    "from emcee import EnsembleSampler\n",
    "from multiprocessing import Pool\n",
    "\n",
    "ndim = 2\n",
    "nwalkers = 2 * ndim \n",
    "\n",
    "p0 = [soln.x + 0.1 * np.random.randn(ndim) \n",
    "      for i in range(nwalkers)]\n",
    "\n",
    "\n",
    "with Pool() as pool: \n",
    "    sampler = EnsembleSampler(nwalkers, ndim, lnprob, \n",
    "                              args=(xi, obs, obs_err),\n",
    "                              pool=pool)\n",
    "    p1 = sampler.run_mcmc(p0, 100)\n",
    "    sampler.reset()\n",
    "    sampler.run_mcmc(p1, 200)"
   ]
  },
  {
   "cell_type": "code",
   "execution_count": null,
   "metadata": {},
   "outputs": [],
   "source": [
    "from corner import corner\n",
    "\n",
    "corner(sampler.flatchain, truths=[hotspot_offset, C[1][1]]);"
   ]
  },
  {
   "cell_type": "code",
   "execution_count": null,
   "metadata": {},
   "outputs": [],
   "source": []
  }
 ],
 "metadata": {
  "kernelspec": {
   "display_name": "Python 3",
   "language": "python",
   "name": "python3"
  },
  "language_info": {
   "codemirror_mode": {
    "name": "ipython",
    "version": 3
   },
   "file_extension": ".py",
   "mimetype": "text/x-python",
   "name": "python",
   "nbconvert_exporter": "python",
   "pygments_lexer": "ipython3",
   "version": "3.7.6"
  }
 },
 "nbformat": 4,
 "nbformat_minor": 4
}

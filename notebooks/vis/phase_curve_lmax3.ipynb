{
 "cells": [
  {
   "cell_type": "code",
   "execution_count": null,
   "metadata": {},
   "outputs": [],
   "source": [
    "%matplotlib inline\n",
    "import matplotlib.pyplot as plt\n",
    "import numpy as np\n",
    "\n",
    "from ipywidgets import interact\n",
    "import ipywidgets as widgets\n",
    "\n",
    "import sys\n",
    "sys.path.insert(0, '../../')\n",
    "from kelp import Filter, Planet, Model"
   ]
  },
  {
   "cell_type": "code",
   "execution_count": null,
   "metadata": {},
   "outputs": [],
   "source": [
    "# Set initial parameters\n",
    "n = 'HD 189733'\n",
    "channel = 1\n",
    "n_theta = 20\n",
    "n_phi = 25\n",
    "f = 1/2**0.5\n",
    "ln_c11 = 1\n",
    "ln_c13 = 0\n",
    "c23 = 0\n",
    "c33 = 0\n",
    "ln_omega_drag = 5\n",
    "alpha = 0.6\n",
    "hotspot_offset = 0\n",
    "\n",
    "\n",
    "# Import planet properties, filter properties\n",
    "p = Planet.from_name(n)\n",
    "filt = Filter.from_name(f\"IRAC {channel}\")\n",
    "filt.bin_down()\n",
    "\n",
    "# Create interactive plot:\n",
    "@interact(\n",
    "    offset=widgets.FloatSlider(min=-2, max=2, step=0.1, value=0),\n",
    "    ln_c11=widgets.FloatSlider(min=-2, max=2, step=0.1, value=ln_c11, \n",
    "                               description='$\\log C_{11}$'),\n",
    "    alpha=widgets.FloatSlider(min=0, max=1, step=0.1, value=alpha,\n",
    "                              description='$\\\\alpha$'),\n",
    "    ln_omega_drag=widgets.FloatSlider(min=0, max=10, step=0.5, value=ln_omega_drag, \n",
    "                                      description='$\\log \\omega_{\\\\rm drag}$'),\n",
    "    c11=widgets.FloatSlider(min=-2, max=2, step=0.1, value=ln_c11, \n",
    "                            description='$\\log C_{11}$'),\n",
    "    ln_c13=widgets.FloatSlider(min=-2, max=2, step=0.1, value=ln_c13, \n",
    "                               description='$\\log C_{13}$'),\n",
    "    c23=widgets.FloatSlider(min=-2, max=0, step=0.1, value=c23, \n",
    "                            description='$C_{23}$'),\n",
    "    c33=widgets.FloatSlider(min=-2, max=0, step=0.1, value=c33, \n",
    "                            description='$C_{33}$')\n",
    ")\n",
    "def temperature_map_plot(offset, alpha, ln_omega_drag, ln_c11, ln_c13, c23, c33):\n",
    "    C_ml = [[0],\n",
    "            [0, np.exp(ln_c11), 0], \n",
    "            [0, 0, 0, 0, 0],\n",
    "            [0, -np.exp(ln_c13), c23, c33, 0, 0, 0, 0]]\n",
    "    model = Model(hotspot_offset=offset, \n",
    "                  omega_drag=np.exp(ln_omega_drag),\n",
    "                  alpha=alpha, C_ml=C_ml, lmax=3, A_B=0,\n",
    "                  a_rs=p.a, rp_a=p.rp_a, T_s=p.T_s, filt=filt)\n",
    "\n",
    "    xi = np.linspace(-2.7, 2.7, 20)\n",
    "    phase_curve = model.phase_curve(xi)\n",
    "\n",
    "    plt.plot(xi, 1e3 * phase_curve)\n",
    "    plt.xlabel('$\\\\xi/\\\\pi$')\n",
    "    plt.ylabel('Flux [ppt]')\n",
    "    plt.show()"
   ]
  },
  {
   "cell_type": "code",
   "execution_count": null,
   "metadata": {},
   "outputs": [],
   "source": []
  }
 ],
 "metadata": {
  "kernelspec": {
   "display_name": "Python 3",
   "language": "python",
   "name": "python3"
  },
  "language_info": {
   "codemirror_mode": {
    "name": "ipython",
    "version": 3
   },
   "file_extension": ".py",
   "mimetype": "text/x-python",
   "name": "python",
   "nbconvert_exporter": "python",
   "pygments_lexer": "ipython3",
   "version": "3.7.6"
  }
 },
 "nbformat": 4,
 "nbformat_minor": 2
}
